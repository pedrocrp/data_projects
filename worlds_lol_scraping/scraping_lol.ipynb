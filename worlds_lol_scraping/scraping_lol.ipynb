{
 "cells": [
  {
   "attachments": {},
   "cell_type": "markdown",
   "metadata": {},
   "source": [
    "# Imports"
   ]
  },
  {
   "cell_type": "code",
   "execution_count": 30,
   "metadata": {},
   "outputs": [],
   "source": [
    "import pandas as pd\n",
    "import numpy as np\n",
    "import selenium\n",
    "import requests\n",
    "from bs4 import BeautifulSoup\n",
    "import re"
   ]
  },
  {
   "attachments": {},
   "cell_type": "markdown",
   "metadata": {},
   "source": [
    "# Match stats table"
   ]
  },
  {
   "attachments": {},
   "cell_type": "markdown",
   "metadata": {},
   "source": [
    "### Building the function"
   ]
  },
  {
   "cell_type": "code",
   "execution_count": 31,
   "metadata": {},
   "outputs": [],
   "source": [
    "def scraping(end_point):\n",
    "    # We are extracting the desired table by looking for it \n",
    "    # by its tag and its specific class name()\n",
    "    soup = BeautifulSoup(requests.get(f\"https://lol.fandom.com/wiki/{end_point}/Match_History\").content, \"html.parser\")\n",
    "    table = soup.find(\"table\",{\"class\":\"wikitable hoverable-multirows mhgame sortable plainlinks column-show-hide-1\"})\n",
    "    table_rows = table.find_all('tr',class_ = ['mhgame-red multirow-highlighter', 'mhgame-blue multirow-highlighter'])\n",
    "    table_list = []\n",
    "    \n",
    "    # Once our table is found, let's iterate through all the \"tr\" in our soup\n",
    "    for tr in table_rows:\n",
    "        col = 1\n",
    "        row = []\n",
    "        for td in tr:\n",
    "        # As there are columns with different data types, each one \n",
    "        # receives a different treatment\n",
    "            if col in [3,4,5]:\n",
    "                a = td.find('a')\n",
    "                x = re.search(\"\"\"[a-z]{4}[-][a-z]{2}[-][a-z]{2}[=][\"][a-zA-Z0-9_[-]{1,}[\"]\"\"\", a.__str__())\n",
    "                if x is not None:\n",
    "                    string = x[0][11:]\n",
    "                    row.append(string.replace('\"',\"\"))\n",
    "                \n",
    "            elif col in [6,7,8,9]:\n",
    "                span = td.findAll('span')\n",
    "                champions = ''\n",
    "                for i in span:\n",
    "                    if i == span[-1]:\n",
    "                        x = re.search(\"\"\"[a-z]{5}[=][\"][A-Z a-z']{1,}[\"]\"\"\", i.__str__())\n",
    "                        if x is not None:\n",
    "                            string = x[0][6:]\n",
    "                            champions += string.replace('\"',\"\")\n",
    "                        \n",
    "                    else:\n",
    "                        x = re.search(\"\"\"[a-z]{5}[=][\"][A-Z a-z.']{1,}[\"]\"\"\", i.__str__())\n",
    "                        if x is not None:\n",
    "                            string = x[0][6:]\n",
    "                            champions += string.replace('\"',\"\") + ','\n",
    "                row.append(champions)\n",
    "\n",
    "            else:\n",
    "                row.append(td.text)\n",
    "            col += 1\n",
    "        \n",
    "        table_list.append(row)\n",
    "    \n",
    "    initial_columns = [\n",
    "            'date',\n",
    "            'patch',\n",
    "            'blue_team',\n",
    "            'red_team',\n",
    "            'winner',\n",
    "            'bans_blue_team',\n",
    "            'bans_red_team',\n",
    "            'picks_blue_team',\n",
    "            'picks_red_team',\n",
    "            'blue_team_roster',\n",
    "            'red_team_roster',\n",
    "            'sb',\n",
    "            'vod'\n",
    "            ]\n",
    "    df = pd.DataFrame(data = table_list,columns=initial_columns) \n",
    "    return df"
   ]
  },
  {
   "cell_type": "code",
   "execution_count": 32,
   "metadata": {},
   "outputs": [],
   "source": [
    "def df_organize(df, end_point):\n",
    "    end_points_3_bans = [\n",
    "    'Season_1_World_Championship',\n",
    "    'Season_2_World_Championship',\n",
    "    'Season_3_World_Championship',\n",
    "    '2014_Season_World_Championship',\n",
    "    '2015_Season_World_Championship',\n",
    "    '2016_Season_World_Championship',\n",
    "]   \n",
    "\n",
    "    if end_point in end_points_3_bans:\n",
    "        ## Bans\n",
    "        df[['ban_1_blue_team','ban_2_blue_team','ban_3_blue_team']] = df['bans_blue_team'].str.split(',',expand=True)\n",
    "        df[['ban_1_red_team','ban_2_red_team','ban_3_red_team']] = df['bans_red_team'].str.split(',',expand=True)\n",
    "        df = df.drop(['bans_blue_team','bans_red_team'], axis=1)\n",
    "        columns = [\n",
    "        'date',\n",
    "        'patch',\n",
    "        'blue_Team',\n",
    "        'red_Team',\n",
    "        'Winner',\n",
    "        'ban_1_blue_team',\n",
    "        'ban_2_blue_team',\n",
    "        'ban_3_blue_team',\n",
    "        'ban_1_red_team',\n",
    "        'ban_2_red_team',\n",
    "        'ban_3_red_team',\n",
    "        'pick_1_blue_team',\n",
    "        'pick_2_blue_team',\n",
    "        'pick_3_blue_team',\n",
    "        'pick_4_blue_team',\n",
    "        'pick_5_blue_team',\n",
    "        'pick_1_red_team',\n",
    "        'pick_2_red_team',\n",
    "        'pick_3_red_team',\n",
    "        'pick_4_red_team',\n",
    "        'pick_5_red_team',\n",
    "        'player_1_blue_team',\n",
    "        'player_2_blue_team',\n",
    "        'player_3_blue_team',\n",
    "        'player_4_blue_team',\n",
    "        'player_5_blue_team',\n",
    "        'player_1_red_team',\n",
    "        'player_2_red_team',\n",
    "        'player_3_red_team',\n",
    "        'player_4_red_team',\n",
    "        'player_5_red_team'\n",
    "        ]\n",
    "    \n",
    "    else:\n",
    "        ## Bans\n",
    "        df[['ban_1_blue_team','ban_2_blue_team','ban_3_blue_team', 'ban_4_blue_team', 'ban_5_blue_team']] = df['bans_blue_team'].str.split(',',expand=True)\n",
    "        df[['ban_1_red_team','ban_2_red_team','ban_3_red_team', 'ban_4_red_team', 'ban_5_red_team']] = df['bans_red_team'].str.split(',',expand=True)\n",
    "        df = df.drop(['bans_blue_team','bans_red_team'], axis=1)\n",
    "        columns = [\n",
    "        'date',\n",
    "        'patch',\n",
    "        'blue_team',\n",
    "        'red_team',\n",
    "        'winner',\n",
    "        'ban_1_blue_team',\n",
    "        'ban_2_blue_team',\n",
    "        'ban_3_blue_team',\n",
    "        'ban_4_blue_team',\n",
    "        'ban_5_blue_team',\n",
    "        'ban_1_red_team',\n",
    "        'ban_2_red_team',\n",
    "        'ban_3_red_team',\n",
    "        'ban_4_red_team',\n",
    "        'ban_5_red_team',\n",
    "        'pick_1_blue_team',\n",
    "        'pick_2_blue_team',\n",
    "        'pick_3_blue_team',\n",
    "        'pick_4_blue_team',\n",
    "        'pick_5_blue_team',\n",
    "        'pick_1_red_team',\n",
    "        'pick_2_red_team',\n",
    "        'pick_3_red_team',\n",
    "        'pick_4_red_team',\n",
    "        'pick_5_red_team',\n",
    "        'player_1_blue_team',\n",
    "        'player_2_blue_team',\n",
    "        'player_3_blue_team',\n",
    "        'player_4_blue_team',\n",
    "        'player_5_blue_team',\n",
    "        'player_1_red_team',\n",
    "        'player_2_red_team',\n",
    "        'player_3_red_team',\n",
    "        'player_4_red_team',\n",
    "        'player_5_red_team'\n",
    "        ]\n",
    "        \n",
    "    ## Picks\n",
    "    df[['pick_1_blue_team','pick_2_blue_team','pick_3_blue_team','pick_4_blue_team','pick_5_blue_team']] = df['picks_blue_team'].str.split(',',expand=True)\n",
    "    df[['pick_1_red_team','pick_2_red_team','pick_3_red_team','pick_4_red_team','pick_5_red_team']] = df['picks_red_team'].str.split(',',expand=True)\n",
    "    df = df.drop(['picks_blue_team','picks_red_team'], axis=1)\n",
    "    \n",
    "    ## team Roster \n",
    "    df[['top_blue_team','jungler_blue_team','mid_blue_team','adc_blue_team','support_blue_team']] = df['blue_team_roster'].str.split(',',expand=True)\n",
    "    df[['top_red_team','jungler_red_team','mid_red_team','adc_red_team','support_red_team']] = df['red_team_roster'].str.split(',',expand=True)\n",
    "    df = df.drop(['blue_team_roster','red_team_roster'], axis=1)\n",
    "\n",
    "    return df"
   ]
  },
  {
   "cell_type": "code",
   "execution_count": 33,
   "metadata": {},
   "outputs": [],
   "source": [
    "def scrape_table(end_point):\n",
    "    try:\n",
    "        original_df = scraping(end_point)\n",
    "        return df_organize(original_df, end_point)\n",
    "    except:\n",
    "        raise 'Error, please verify functions'"
   ]
  },
  {
   "attachments": {},
   "cell_type": "markdown",
   "metadata": {},
   "source": [
    "### Getting Data of match history table"
   ]
  },
  {
   "cell_type": "code",
   "execution_count": 34,
   "metadata": {},
   "outputs": [],
   "source": [
    "end_points = [\n",
    "    ('Season_1_World_Championship', 1,'Main'), \n",
    "    ('Season_2_World_Championship', 2, 'Main'),\n",
    "    ('Season_3_World_Championship', 3,'Main'),\n",
    "    ('2014_Season_World_Championship', 4,'Main'),\n",
    "    ('2015_Season_World_Championship', 5,'Main'),\n",
    "    ('2016_Season_World_Championship', 6,'Main'),\n",
    "    ('2017_Season_World_Championship/Play-In',7, 'Play in'),\n",
    "    ('2017_Season_World_Championship/Main_Event',7, 'Main'),\n",
    "    ('2018_Season_World_Championship/Play-In',8,'Play in'),\n",
    "    ('2018_Season_World_Championship/Main_Event',8, 'Main'),\n",
    "    ('2019_Season_World_Championship/Play-In', 9, 'Play in'),\n",
    "    ('2019_Season_World_Championship/Main_Event', 9, 'Main'),\n",
    "    ('2020_Season_World_Championship/Play-In', 10, 'Play in'),\n",
    "    ('2020_Season_World_Championship/Main_Event', 10, 'Main'),\n",
    "    ('2021_Season_World_Championship/Play-In', 11,'Play in'),\n",
    "    ('2021_Season_World_Championship/Main_Event',11, 'Main'),\n",
    "    ('2022_Season_World_Championship/Play-In', 12, 'Play in'),\n",
    "    ('2022_Season_World_Championship/Main_Event', 12, 'Main')\n",
    "]"
   ]
  },
  {
   "cell_type": "code",
   "execution_count": 35,
   "metadata": {},
   "outputs": [],
   "source": [
    "columns = [\n",
    "        'date',\n",
    "        'season',\n",
    "        'event',\n",
    "        'patch',\n",
    "        'blue_team',\n",
    "        'red_team',\n",
    "        'winner',\n",
    "        'ban_1_blue_team',\n",
    "        'ban_2_blue_team',\n",
    "        'ban_3_blue_team',\n",
    "        'ban_4_blue_team',\n",
    "        'ban_5_blue_team',\n",
    "        'ban_1_red_team',\n",
    "        'ban_2_red_team',\n",
    "        'ban_3_red_team',\n",
    "        'ban_4_red_team',\n",
    "        'ban_5_red_team',\n",
    "        'pick_1_blue_team',\n",
    "        'pick_2_blue_team',\n",
    "        'pick_3_blue_team',\n",
    "        'pick_4_blue_team',\n",
    "        'pick_5_blue_team',\n",
    "        'pick_1_red_team',\n",
    "        'pick_2_red_team',\n",
    "        'pick_3_red_team',\n",
    "        'pick_4_red_team',\n",
    "        'pick_5_red_team',\n",
    "        'top_blue_team',\n",
    "        'jungler_blue_team',\n",
    "        'mid_blue_team',\n",
    "        'adc_blue_team',\n",
    "        'support_blue_team',\n",
    "        'top_red_team',\n",
    "        'jungler_red_team',\n",
    "        'mid_red_team',\n",
    "        'adc_red_team',\n",
    "        'support_red_team'\n",
    "        ]\n",
    "appended_data = []\n",
    "for end_point in end_points:\n",
    "    data = scrape_table(end_point[0])\n",
    "    data['season'] = end_point[1]\n",
    "    data['event'] = end_point[2]\n",
    "    appended_data.append(data)\n",
    "df_worlds = pd.concat(appended_data)\n",
    "df_worlds = df_worlds[columns]\n",
    "df_worlds.set_index('season', inplace=True)"
   ]
  },
  {
   "cell_type": "code",
   "execution_count": 36,
   "metadata": {},
   "outputs": [],
   "source": [
    "df_worlds['date'] = pd.to_datetime(df_worlds['date'])"
   ]
  },
  {
   "cell_type": "code",
   "execution_count": 37,
   "metadata": {},
   "outputs": [
    {
     "data": {
      "text/plain": [
       "date                 datetime64[ns]\n",
       "event                        object\n",
       "patch                        object\n",
       "blue_team                    object\n",
       "red_team                     object\n",
       "winner                       object\n",
       "ban_1_blue_team              object\n",
       "ban_2_blue_team              object\n",
       "ban_3_blue_team              object\n",
       "ban_4_blue_team              object\n",
       "ban_5_blue_team              object\n",
       "ban_1_red_team               object\n",
       "ban_2_red_team               object\n",
       "ban_3_red_team               object\n",
       "ban_4_red_team               object\n",
       "ban_5_red_team               object\n",
       "pick_1_blue_team             object\n",
       "pick_2_blue_team             object\n",
       "pick_3_blue_team             object\n",
       "pick_4_blue_team             object\n",
       "pick_5_blue_team             object\n",
       "pick_1_red_team              object\n",
       "pick_2_red_team              object\n",
       "pick_3_red_team              object\n",
       "pick_4_red_team              object\n",
       "pick_5_red_team              object\n",
       "top_blue_team                object\n",
       "jungler_blue_team            object\n",
       "mid_blue_team                object\n",
       "adc_blue_team                object\n",
       "support_blue_team            object\n",
       "top_red_team                 object\n",
       "jungler_red_team             object\n",
       "mid_red_team                 object\n",
       "adc_red_team                 object\n",
       "support_red_team             object\n",
       "dtype: object"
      ]
     },
     "execution_count": 37,
     "metadata": {},
     "output_type": "execute_result"
    }
   ],
   "source": [
    "df_worlds.dtypes"
   ]
  },
  {
   "attachments": {},
   "cell_type": "markdown",
   "metadata": {},
   "source": [
    "### Changing Dtypes"
   ]
  },
  {
   "attachments": {},
   "cell_type": "markdown",
   "metadata": {},
   "source": [
    "### Upload CSV file"
   ]
  },
  {
   "cell_type": "code",
   "execution_count": 38,
   "metadata": {},
   "outputs": [],
   "source": [
    "df_worlds.to_csv(r'csv_files/matchs_stats.csv')\n"
   ]
  },
  {
   "attachments": {},
   "cell_type": "markdown",
   "metadata": {},
   "source": [
    "# Player Stats table"
   ]
  },
  {
   "attachments": {},
   "cell_type": "markdown",
   "metadata": {},
   "source": [
    "### Build function"
   ]
  },
  {
   "cell_type": "code",
   "execution_count": 39,
   "metadata": {},
   "outputs": [],
   "source": [
    "def scrape_players(end_point):\n",
    "    soup = BeautifulSoup(requests.get(f\"https://lol.fandom.com/wiki/{end_point}/Player_Statistics\").content, \"html.parser\")\n",
    "    # Search for table with stats\n",
    "    table = soup.find(\"table\",{\"class\":\"wikitable sortable spstats plainlinks hoverable-rows\"})\n",
    "    table_rows = table.find_all('tr')\n",
    "    table_rows = table_rows[5:]\n",
    "    table_list = []\n",
    "    for tr in table_rows:\n",
    "        col = 1\n",
    "        row = []\n",
    "        for td in tr:\n",
    "            if col == 1:\n",
    "                a = td.find('a')\n",
    "                x = re.search(\"\"\"[a-z]{4}[-][a-z]{2}[-][a-z]{2}[=][\"][a-zA-Z0-9_[-]{1,}[\"]\"\"\", a.__str__())\n",
    "                if x is not None:\n",
    "                    string = x[0][11:]\n",
    "                    row.append(string.replace('\"',\"\"))\n",
    "            else:\n",
    "                row.append(td.text)\n",
    "            col += 1\n",
    "        table_list.append(row)\n",
    "    \n",
    "    initial_columns = [\n",
    "    'team',\n",
    "    'player',\n",
    "    'games_played',\n",
    "    'wins',\n",
    "    'loses',\n",
    "    'win_rate',\n",
    "    'kills',\n",
    "    'deaths',\n",
    "    'assists',\n",
    "    'kill_death_assist_ratio',\n",
    "    'creep_score',\n",
    "    'cs/min',\n",
    "    'gold',\n",
    "    'gold/min',\n",
    "    'damage',\n",
    "    'damage/min',\n",
    "    'kill_participation',\n",
    "    'kill_share',\n",
    "    'gold_share',\n",
    "    'champions_played',\n",
    "    'champions'\n",
    "    ]\n",
    "    df = pd.DataFrame(data = table_list,columns=initial_columns)\n",
    "\n",
    "    \n",
    "    return df\n",
    "            "
   ]
  },
  {
   "attachments": {},
   "cell_type": "markdown",
   "metadata": {},
   "source": [
    "### Getting Data of player stats table"
   ]
  },
  {
   "cell_type": "code",
   "execution_count": 40,
   "metadata": {},
   "outputs": [],
   "source": [
    "end_points = [\n",
    "    ('Season_1_World_Championship', 1,'Main'), \n",
    "    ('Season_2_World_Championship', 2, 'Main'),\n",
    "    ('Season_3_World_Championship', 3,'Main'),\n",
    "    ('2014_Season_World_Championship', 4,'Main'),\n",
    "    ('2015_Season_World_Championship', 5,'Main'),\n",
    "    ('2016_Season_World_Championship', 6,'Main'),\n",
    "    ('2017_Season_World_Championship/Play-In',7, 'Play in'),\n",
    "    ('2017_Season_World_Championship/Main_Event',7, 'Main'),\n",
    "    ('2018_Season_World_Championship/Play-In',8,'Play in'),\n",
    "    ('2018_Season_World_Championship/Main_Event',8, 'Main'),\n",
    "    ('2019_Season_World_Championship/Play-In', 9, 'Play in'),\n",
    "    ('2019_Season_World_Championship/Main_Event', 9, 'Main'),\n",
    "    ('2020_Season_World_Championship/Play-In', 10, 'Play in'),\n",
    "    ('2020_Season_World_Championship/Main_Event', 10, 'Main'),\n",
    "    ('2021_Season_World_Championship/Play-In', 11,'Play in'),\n",
    "    ('2021_Season_World_Championship/Main_Event',11, 'Main'),\n",
    "    ('2022_Season_World_Championship/Play-In', 12, 'Play in'),\n",
    "    ('2022_Season_World_Championship/Main_Event', 12, 'Main')\n",
    "]"
   ]
  },
  {
   "cell_type": "code",
   "execution_count": 41,
   "metadata": {},
   "outputs": [],
   "source": [
    "columns = [\n",
    "    'season',\n",
    "    'event',\n",
    "    'team',\n",
    "    'player',\n",
    "    'games_played',\n",
    "    'wins',\n",
    "    'loses',\n",
    "    'win_rate',\n",
    "    'kills',\n",
    "    'deaths',\n",
    "    'assists',\n",
    "    'kill_death_assist_ratio',\n",
    "    'creep_score',\n",
    "    'cs/min',\n",
    "    'gold',\n",
    "    'gold/min',\n",
    "    'damage',\n",
    "    'damage/min',\n",
    "    'kill_participation',\n",
    "    'kill_share',\n",
    "    'gold_share',\n",
    "    'champions_played'\n",
    "    ]\n",
    "appended_data = []\n",
    "for end_point in end_points:\n",
    "    data = scrape_players(end_point[0])\n",
    "    data['season'] = end_point[1]\n",
    "    data['event'] = end_point[2]\n",
    "    appended_data.append(data)\n",
    "df_players = pd.concat(appended_data)\n",
    "df_players = df_players[columns]\n",
    "df_players.set_index('season', inplace=True)"
   ]
  },
  {
   "attachments": {},
   "cell_type": "markdown",
   "metadata": {},
   "source": [
    "### Changing Dtypes"
   ]
  },
  {
   "cell_type": "code",
   "execution_count": 42,
   "metadata": {},
   "outputs": [],
   "source": [
    "df_players.replace('-', '', inplace=True)"
   ]
  },
  {
   "cell_type": "code",
   "execution_count": 43,
   "metadata": {},
   "outputs": [],
   "source": [
    "for col in ['win_rate', 'kill_participation', 'kill_share', 'gold_share']:\n",
    "    df_players[col] = df_players[col].str[:-1]"
   ]
  },
  {
   "cell_type": "code",
   "execution_count": 44,
   "metadata": {},
   "outputs": [],
   "source": [
    "df_players['damage'] = df_players['damage'].str[:-1]\n",
    "df_players['damage'] = pd.to_numeric(df_players['damage'], errors='coerce')\n",
    "df_players['damage'] = df_players['damage'] * 1000"
   ]
  },
  {
   "cell_type": "code",
   "execution_count": 45,
   "metadata": {},
   "outputs": [],
   "source": [
    "col = ['games_played',\n",
    " 'wins',\n",
    " 'loses',\n",
    " 'win_rate',\n",
    " 'kills',\n",
    " 'deaths',\n",
    " 'assists',\n",
    " 'kill_death_assist_ratio',\n",
    " 'creep_score',\n",
    " 'cs/min',\n",
    " 'gold',\n",
    " 'gold/min',\n",
    " 'damage/min',\n",
    " 'kill_participation',\n",
    " 'kill_share',\n",
    " 'gold_share',\n",
    " 'champions_played']\n",
    "for i in col:\n",
    "    df_players[i] = pd.to_numeric(df_players[i], errors='coerce')"
   ]
  },
  {
   "cell_type": "code",
   "execution_count": 46,
   "metadata": {},
   "outputs": [
    {
     "data": {
      "text/plain": [
       "event                       object\n",
       "team                        object\n",
       "player                      object\n",
       "games_played                 int64\n",
       "wins                         int64\n",
       "loses                        int64\n",
       "win_rate                   float64\n",
       "kills                      float64\n",
       "deaths                     float64\n",
       "assists                    float64\n",
       "kill_death_assist_ratio    float64\n",
       "creep_score                float64\n",
       "cs/min                     float64\n",
       "gold                       float64\n",
       "gold/min                     int64\n",
       "damage                     float64\n",
       "damage/min                 float64\n",
       "kill_participation         float64\n",
       "kill_share                 float64\n",
       "gold_share                 float64\n",
       "champions_played             int64\n",
       "dtype: object"
      ]
     },
     "execution_count": 46,
     "metadata": {},
     "output_type": "execute_result"
    }
   ],
   "source": [
    "df_players.dtypes"
   ]
  },
  {
   "attachments": {},
   "cell_type": "markdown",
   "metadata": {},
   "source": [
    "### Upload CSV file"
   ]
  },
  {
   "cell_type": "code",
   "execution_count": 47,
   "metadata": {},
   "outputs": [],
   "source": [
    "df_players.drop('champions_played',axis=1, inplace=True)"
   ]
  },
  {
   "cell_type": "code",
   "execution_count": 48,
   "metadata": {},
   "outputs": [
    {
     "name": "stderr",
     "output_type": "stream",
     "text": [
      "c:\\Users\\Pedro\\AppData\\Local\\Programs\\Python\\Python311\\Lib\\site-packages\\pandas\\core\\internals\\blocks.py:2323: RuntimeWarning: invalid value encountered in cast\n",
      "  values = values.astype(str)\n"
     ]
    }
   ],
   "source": [
    "df_players.to_csv(r'csv_files/players_stats.csv')"
   ]
  },
  {
   "cell_type": "code",
   "execution_count": 49,
   "metadata": {},
   "outputs": [],
   "source": [
    "df_players.to_excel(r'csv_files/players_stats.xlsx')"
   ]
  },
  {
   "attachments": {},
   "cell_type": "markdown",
   "metadata": {},
   "source": [
    "# Champion stats table"
   ]
  },
  {
   "cell_type": "code",
   "execution_count": 50,
   "metadata": {},
   "outputs": [],
   "source": [
    "def scrape_champions(end_point):\n",
    "    soup = BeautifulSoup(requests.get(f\"https://lol.fandom.com/wiki/{end_point}/Champion_Statistics\").content, \"html.parser\")\n",
    "    # Search for table with stats\n",
    "    table = soup.find(\"table\",{\"class\":\"wikitable sortable spstats plainlinks hoverable-rows\"})\n",
    "    table_rows = table.find_all('tr')\n",
    "    table_rows = table_rows[5:]\n",
    "    table_list = []\n",
    "    for tr in table_rows:\n",
    "        col = 1\n",
    "        row = []\n",
    "        for td in tr:\n",
    "            row.append(td.text)\n",
    "        table_list.append(row)\n",
    "    \n",
    "    initial_columns = [\n",
    "    'champion',\n",
    "    'games_contests',\n",
    "    'pick_ban_ratio',\n",
    "    'banned_games',\n",
    "    'played_games',\n",
    "    'played_by_number_of_players',\n",
    "    'win',\n",
    "    'lose',\n",
    "    'win_rate',\n",
    "    'kills',\n",
    "    'deaths',\n",
    "    'assists',\n",
    "    'kill_death_assist_ratio',\n",
    "    'creep_score',\n",
    "    'cs/min',\n",
    "    'gold',\n",
    "    'gold/min',\n",
    "    'damage',\n",
    "    'damage/min',\n",
    "    'kill_participation',\n",
    "    'kill_share',\n",
    "    'gold_share',\n",
    "    'played_as'\n",
    "    ]\n",
    "    df = pd.DataFrame(data = table_list, columns=initial_columns)\n",
    "\n",
    "    \n",
    "    return df"
   ]
  },
  {
   "cell_type": "code",
   "execution_count": 51,
   "metadata": {},
   "outputs": [],
   "source": [
    "end_points = [\n",
    "    ('Season_1_World_Championship', 1,'Main'), \n",
    "    ('Season_2_World_Championship', 2, 'Main'),\n",
    "    ('Season_3_World_Championship', 3,'Main'),\n",
    "    ('2014_Season_World_Championship', 4,'Main'),\n",
    "    ('2015_Season_World_Championship', 5,'Main'),\n",
    "    ('2016_Season_World_Championship', 6,'Main'),\n",
    "    ('2017_Season_World_Championship/Play-In',7, 'Play in'),\n",
    "    ('2017_Season_World_Championship/Main_Event',7, 'Main'),\n",
    "    ('2018_Season_World_Championship/Play-In',8,'Play in'),\n",
    "    ('2018_Season_World_Championship/Main_Event',8, 'Main'),\n",
    "    ('2019_Season_World_Championship/Play-In', 9, 'Play in'),\n",
    "    ('2019_Season_World_Championship/Main_Event', 9, 'Main'),\n",
    "    ('2020_Season_World_Championship/Play-In', 10, 'Play in'),\n",
    "    ('2020_Season_World_Championship/Main_Event', 10, 'Main'),\n",
    "    ('2021_Season_World_Championship/Play-In', 11,'Play in'),\n",
    "    ('2021_Season_World_Championship/Main_Event',11, 'Main'),\n",
    "    ('2022_Season_World_Championship/Play-In', 12, 'Play in'),\n",
    "    ('2022_Season_World_Championship/Main_Event', 12, 'Main')\n",
    "]"
   ]
  },
  {
   "cell_type": "code",
   "execution_count": 52,
   "metadata": {},
   "outputs": [],
   "source": [
    "columns = [\n",
    "    'season',\n",
    "    'event',\n",
    "    'champion',\n",
    "    'games_contests',\n",
    "    'pick_ban_ratio',\n",
    "    'banned_games',\n",
    "    'played_games',\n",
    "    'played_by_number_of_players',\n",
    "    'win',\n",
    "    'lose',\n",
    "    'win_rate',\n",
    "    'kills',\n",
    "    'deaths',\n",
    "    'assists',\n",
    "    'kill_death_assist_ratio',\n",
    "    'creep_score',\n",
    "    'cs/min',\n",
    "    'gold',\n",
    "    'gold/min',\n",
    "    'damage',\n",
    "    'damage/min',\n",
    "    'kill_participation',\n",
    "    'kill_share',\n",
    "    'gold_share',\n",
    "    'played_as'\n",
    "    ]\n",
    "appended_data = []\n",
    "for end_point in end_points:\n",
    "    data = scrape_champions(end_point[0])\n",
    "    data['season'] = end_point[1]\n",
    "    data['event'] = end_point[2]\n",
    "    appended_data.append(data)\n",
    "df_champions = pd.concat(appended_data)\n",
    "df_champions = df_champions[columns]\n",
    "df_champions.set_index('season',inplace=True)"
   ]
  },
  {
   "attachments": {},
   "cell_type": "markdown",
   "metadata": {},
   "source": [
    "### Changing Dtypes"
   ]
  },
  {
   "cell_type": "code",
   "execution_count": 53,
   "metadata": {},
   "outputs": [],
   "source": [
    "for col in ['pick_ban_ratio','win_rate','kill_participation','kill_share','gold_share']:\n",
    "    df_champions[col] = df_champions[col].str[:-1]\n"
   ]
  },
  {
   "cell_type": "code",
   "execution_count": 54,
   "metadata": {},
   "outputs": [],
   "source": [
    "df_champions.replace('-', '', inplace=True)"
   ]
  },
  {
   "cell_type": "code",
   "execution_count": 55,
   "metadata": {},
   "outputs": [],
   "source": [
    "df_champions['damage'] = df_champions['damage'].str[:-1]\n",
    "df_champions['damage'] = pd.to_numeric(df_champions['damage'], errors='coerce')\n",
    "df_champions['damage'] = df_champions['damage'] * 1000"
   ]
  },
  {
   "cell_type": "code",
   "execution_count": 56,
   "metadata": {},
   "outputs": [],
   "source": [
    "col = [\n",
    "    'games_contests', \n",
    "    'pick_ban_ratio', \n",
    "    'banned_games',\n",
    "    'played_games', \n",
    "    'played_by_number_of_players', \n",
    "    'win', \n",
    "    'lose',\n",
    "    'win_rate', \n",
    "    'kills', \n",
    "    'deaths', \n",
    "    'assists', \n",
    "    'kill_death_assist_ratio',\n",
    "    'creep_score', \n",
    "    'cs/min', \n",
    "    'gold', \n",
    "    'gold/min', \n",
    "    'damage/min',\n",
    "    'kill_participation', \n",
    "    'kill_share', \n",
    "    'gold_share', \n",
    "    ]\n",
    "for i in col:\n",
    "    df_champions[i] = pd.to_numeric(df_champions[i], errors='coerce')"
   ]
  },
  {
   "cell_type": "code",
   "execution_count": 57,
   "metadata": {},
   "outputs": [],
   "source": [
    "df_champions.drop('played_as', axis = 1, inplace=True)"
   ]
  },
  {
   "cell_type": "code",
   "execution_count": 58,
   "metadata": {},
   "outputs": [
    {
     "name": "stderr",
     "output_type": "stream",
     "text": [
      "c:\\Users\\Pedro\\AppData\\Local\\Programs\\Python\\Python311\\Lib\\site-packages\\pandas\\core\\internals\\blocks.py:2323: RuntimeWarning: invalid value encountered in cast\n",
      "  values = values.astype(str)\n"
     ]
    }
   ],
   "source": [
    "df_champions.to_csv(r'csv_files/champions_stats.csv')"
   ]
  }
 ],
 "metadata": {
  "kernelspec": {
   "display_name": "Python 3",
   "language": "python",
   "name": "python3"
  },
  "language_info": {
   "codemirror_mode": {
    "name": "ipython",
    "version": 3
   },
   "file_extension": ".py",
   "mimetype": "text/x-python",
   "name": "python",
   "nbconvert_exporter": "python",
   "pygments_lexer": "ipython3",
   "version": "3.11.1"
  },
  "orig_nbformat": 4,
  "vscode": {
   "interpreter": {
    "hash": "aaf625e4c5224337ff2645fea3e4f496e4e9e62511336172d6cab3073daa8962"
   }
  }
 },
 "nbformat": 4,
 "nbformat_minor": 2
}
